{
 "cells": [
  {
   "cell_type": "code",
   "execution_count": 1,
   "metadata": {},
   "outputs": [],
   "source": [
    "import os\n",
    "import pandas as pd\n",
    "import numpy as np\n",
    "import matplotlib.pyplot as plt\n",
    "%matplotlib inline\n",
    "import seaborn as sns"
   ]
  },
  {
   "cell_type": "code",
   "execution_count": 2,
   "metadata": {},
   "outputs": [],
   "source": [
    "PATH ='C:\\Weather Report_100 Indian Cities'"
   ]
  },
  {
   "cell_type": "code",
   "execution_count": 3,
   "metadata": {},
   "outputs": [],
   "source": [
    "file_data_list=pd.DataFrame()\n",
    "classes_names_list=[]\n",
    "target_column=[]\n",
    "target_column = np.ones((185700,), dtype='int64')\n",
    "dataset_size=[]"
   ]
  },
  {
   "cell_type": "code",
   "execution_count": 4,
   "metadata": {
    "scrolled": true
   },
   "outputs": [
    {
     "name": "stdout",
     "output_type": "stream",
     "text": [
      "['Agartala.csv', 'Agra.csv', 'Ahmedabad.csv', 'Allahabad.csv', 'Amritsar.csv', 'Anjangaon.csv', 'Aruppukkottai.csv', 'Arvi.csv', 'Aurangabad.csv', 'Bengaluru.csv', 'Bhopal.csv', 'Bhubaneswar.csv', 'chandigarh.csv', 'Chennai.csv', 'cherrapunjee.csv', 'cochin.csv', 'Coimbatore.csv', 'Dehradun.csv', 'Delhi.csv', 'Dhanbad.csv', 'Dhoraji.csv', 'Diphu.csv', 'Faridabad.csv', 'Fatehabad.csv', 'Forbesganj.csv', 'Gangtok.csv', 'Ghaziabad.csv', 'Gilgit.csv', 'Goalpara.csv', 'Guwahati.csv', 'Gwalior.csv', 'Haora.csv', 'Hoshangabad.csv', 'Hugli-Chinsurah.csv', 'Hyderabad.csv', 'imphal.csv', 'Indore.csv', 'Itanagar.csv', 'Jabalpur.csv', 'Jagdalpur.csv', 'Jaipur.csv', 'jaisalmer.csv', 'Jind.csv', 'Jodhpur.csv', 'Kalyan & Dombivali.csv', 'Kancheepuram.csv', 'Kanpur.csv', 'kargil.csv', 'kohima.csv', 'Kolkata.csv', 'Kota.csv', 'Lalsot.csv', 'Leh.csv', 'Lucknow.csv', 'Ludhiana.csv', 'Machilipatnam.csv', 'Madurai.csv', 'Makrana.csv', 'mangalore.csv', 'Margherita.csv', 'Meerut.csv', 'Morena.csv', 'mumbai.csv', 'Mussoorie.csv', 'Muzaffarpur.csv', 'nagpur.csv', 'Narasaraopet.csv', 'Partur.csv', 'Patna.csv', 'Pimpri&Chinchwad.csv', 'Piro.csv', 'Pune.csv', 'Raipur.csv', 'Raisen.csv', 'Rajam.csv', 'Rajapalayam.csv', 'Rajkot.csv', 'Ranchi.csv', 'Saharanpur.csv', 'Shegaon.csv', 'Shillong.csv', 'shimoga.csv', 'Shoranur.csv', 'Simdega.csv', 'spiti.csv', 'Srinagar.csv', 'Surat.csv', 'Talcher.csv', 'Tehri.csv', 'Thane.csv', 'Thanjavur.csv', 'Thirumangalam.csv', 'Tikamgarh.csv', 'Trivandrum.csv', 'Umred.csv', 'Vadodara.csv', 'Vaniyambadi.csv', 'Varanasi.csv', 'Vijayawada.csv', 'Washim.csv']\n"
     ]
    }
   ],
   "source": [
    "data_dir_list=os.listdir(PATH)\n",
    "print(data_dir_list)"
   ]
  },
  {
   "cell_type": "code",
   "execution_count": 5,
   "metadata": {},
   "outputs": [
    {
     "data": {
      "text/plain": [
       "185700"
      ]
     },
     "execution_count": 5,
     "metadata": {},
     "output_type": "execute_result"
    }
   ],
   "source": [
    "len(target_column)"
   ]
  },
  {
   "cell_type": "code",
   "execution_count": 6,
   "metadata": {
    "scrolled": true
   },
   "outputs": [
    {
     "name": "stdout",
     "output_type": "stream",
     "text": [
      "Loading data from Agartala.csv folder\n",
      "\n",
      "length of the dataset =  1857\n",
      "Loading data from Agra.csv folder\n",
      "\n",
      "length of the dataset =  1857\n",
      "Loading data from Ahmedabad.csv folder\n",
      "\n",
      "length of the dataset =  1857\n",
      "Loading data from Allahabad.csv folder\n",
      "\n",
      "length of the dataset =  1857\n"
     ]
    },
    {
     "name": "stderr",
     "output_type": "stream",
     "text": [
      "C:\\Users\\shrav\\Anaconda3\\lib\\site-packages\\pandas\\core\\frame.py:6201: FutureWarning: Sorting because non-concatenation axis is not aligned. A future version\n",
      "of pandas will change to not sort by default.\n",
      "\n",
      "To accept the future behavior, pass 'sort=True'.\n",
      "\n",
      "To retain the current behavior and silence the warning, pass sort=False\n",
      "\n",
      "  sort=sort)\n"
     ]
    },
    {
     "name": "stdout",
     "output_type": "stream",
     "text": [
      "Loading data from Amritsar.csv folder\n",
      "\n",
      "length of the dataset =  1857\n",
      "Loading data from Anjangaon.csv folder\n",
      "\n",
      "length of the dataset =  1857\n",
      "Loading data from Aruppukkottai.csv folder\n",
      "\n",
      "length of the dataset =  1857\n",
      "Loading data from Arvi.csv folder\n",
      "\n",
      "length of the dataset =  1857\n",
      "Loading data from Aurangabad.csv folder\n",
      "\n",
      "length of the dataset =  1857\n",
      "Loading data from Bengaluru.csv folder\n",
      "\n",
      "length of the dataset =  1857\n",
      "Loading data from Bhopal.csv folder\n",
      "\n",
      "length of the dataset =  1857\n",
      "Loading data from Bhubaneswar.csv folder\n",
      "\n",
      "length of the dataset =  1857\n",
      "Loading data from chandigarh.csv folder\n",
      "\n",
      "length of the dataset =  1857\n",
      "Loading data from Chennai.csv folder\n",
      "\n",
      "length of the dataset =  1857\n",
      "Loading data from cherrapunjee.csv folder\n",
      "\n",
      "length of the dataset =  1857\n",
      "Loading data from cochin.csv folder\n",
      "\n",
      "length of the dataset =  1857\n",
      "Loading data from Coimbatore.csv folder\n",
      "\n",
      "length of the dataset =  1857\n",
      "Loading data from Dehradun.csv folder\n",
      "\n",
      "length of the dataset =  1857\n",
      "Loading data from Delhi.csv folder\n",
      "\n",
      "length of the dataset =  1857\n",
      "Loading data from Dhanbad.csv folder\n",
      "\n",
      "length of the dataset =  1857\n",
      "Loading data from Dhoraji.csv folder\n",
      "\n",
      "length of the dataset =  1857\n",
      "Loading data from Diphu.csv folder\n",
      "\n",
      "length of the dataset =  1857\n",
      "Loading data from Faridabad.csv folder\n",
      "\n",
      "length of the dataset =  1857\n",
      "Loading data from Fatehabad.csv folder\n",
      "\n",
      "length of the dataset =  1857\n",
      "Loading data from Forbesganj.csv folder\n",
      "\n",
      "length of the dataset =  1857\n",
      "Loading data from Gangtok.csv folder\n",
      "\n",
      "length of the dataset =  1857\n",
      "Loading data from Ghaziabad.csv folder\n",
      "\n",
      "length of the dataset =  1857\n",
      "Loading data from Gilgit.csv folder\n",
      "\n",
      "length of the dataset =  1857\n",
      "Loading data from Goalpara.csv folder\n",
      "\n",
      "length of the dataset =  1857\n",
      "Loading data from Guwahati.csv folder\n",
      "\n",
      "length of the dataset =  1857\n",
      "Loading data from Gwalior.csv folder\n",
      "\n",
      "length of the dataset =  1857\n",
      "Loading data from Haora.csv folder\n",
      "\n",
      "length of the dataset =  1857\n",
      "Loading data from Hoshangabad.csv folder\n",
      "\n",
      "length of the dataset =  1857\n",
      "Loading data from Hugli-Chinsurah.csv folder\n",
      "\n",
      "length of the dataset =  1857\n",
      "Loading data from Hyderabad.csv folder\n",
      "\n",
      "length of the dataset =  1857\n",
      "Loading data from imphal.csv folder\n",
      "\n",
      "length of the dataset =  1857\n",
      "Loading data from Indore.csv folder\n",
      "\n",
      "length of the dataset =  1857\n",
      "Loading data from Itanagar.csv folder\n",
      "\n",
      "length of the dataset =  1857\n",
      "Loading data from Jabalpur.csv folder\n",
      "\n",
      "length of the dataset =  1857\n",
      "Loading data from Jagdalpur.csv folder\n",
      "\n",
      "length of the dataset =  1857\n",
      "Loading data from Jaipur.csv folder\n",
      "\n",
      "length of the dataset =  1857\n",
      "Loading data from jaisalmer.csv folder\n",
      "\n",
      "length of the dataset =  1857\n",
      "Loading data from Jind.csv folder\n",
      "\n",
      "length of the dataset =  1857\n",
      "Loading data from Jodhpur.csv folder\n",
      "\n",
      "length of the dataset =  1857\n",
      "Loading data from Kalyan & Dombivali.csv folder\n",
      "\n",
      "length of the dataset =  1857\n",
      "Loading data from Kancheepuram.csv folder\n",
      "\n",
      "length of the dataset =  1857\n",
      "Loading data from Kanpur.csv folder\n",
      "\n",
      "length of the dataset =  1857\n",
      "Loading data from kargil.csv folder\n",
      "\n",
      "length of the dataset =  1857\n",
      "Loading data from kohima.csv folder\n",
      "\n",
      "length of the dataset =  1857\n",
      "Loading data from Kolkata.csv folder\n",
      "\n",
      "length of the dataset =  1857\n",
      "Loading data from Kota.csv folder\n",
      "\n",
      "length of the dataset =  1857\n",
      "Loading data from Lalsot.csv folder\n",
      "\n",
      "length of the dataset =  1857\n",
      "Loading data from Leh.csv folder\n",
      "\n",
      "length of the dataset =  1857\n",
      "Loading data from Lucknow.csv folder\n",
      "\n",
      "length of the dataset =  1857\n",
      "Loading data from Ludhiana.csv folder\n",
      "\n",
      "length of the dataset =  1857\n",
      "Loading data from Machilipatnam.csv folder\n",
      "\n",
      "length of the dataset =  1857\n",
      "Loading data from Madurai.csv folder\n",
      "\n",
      "length of the dataset =  1857\n",
      "Loading data from Makrana.csv folder\n",
      "\n",
      "length of the dataset =  1857\n",
      "Loading data from mangalore.csv folder\n",
      "\n",
      "length of the dataset =  1857\n",
      "Loading data from Margherita.csv folder\n",
      "\n",
      "length of the dataset =  1857\n",
      "Loading data from Meerut.csv folder\n",
      "\n",
      "length of the dataset =  1857\n",
      "Loading data from Morena.csv folder\n",
      "\n",
      "length of the dataset =  1857\n",
      "Loading data from mumbai.csv folder\n",
      "\n",
      "length of the dataset =  1857\n",
      "Loading data from Mussoorie.csv folder\n",
      "\n",
      "length of the dataset =  1857\n",
      "Loading data from Muzaffarpur.csv folder\n",
      "\n",
      "length of the dataset =  1857\n",
      "Loading data from nagpur.csv folder\n",
      "\n",
      "length of the dataset =  1857\n",
      "Loading data from Narasaraopet.csv folder\n",
      "\n",
      "length of the dataset =  1857\n",
      "Loading data from Partur.csv folder\n",
      "\n",
      "length of the dataset =  1857\n",
      "Loading data from Patna.csv folder\n",
      "\n",
      "length of the dataset =  1857\n",
      "Loading data from Pimpri&Chinchwad.csv folder\n",
      "\n",
      "length of the dataset =  1857\n",
      "Loading data from Piro.csv folder\n",
      "\n",
      "length of the dataset =  1857\n",
      "Loading data from Pune.csv folder\n",
      "\n",
      "length of the dataset =  1857\n",
      "Loading data from Raipur.csv folder\n",
      "\n",
      "length of the dataset =  1857\n",
      "Loading data from Raisen.csv folder\n",
      "\n",
      "length of the dataset =  1857\n",
      "Loading data from Rajam.csv folder\n",
      "\n",
      "length of the dataset =  1857\n",
      "Loading data from Rajapalayam.csv folder\n",
      "\n",
      "length of the dataset =  1857\n",
      "Loading data from Rajkot.csv folder\n",
      "\n",
      "length of the dataset =  1857\n",
      "Loading data from Ranchi.csv folder\n",
      "\n",
      "length of the dataset =  1857\n",
      "Loading data from Saharanpur.csv folder\n",
      "\n",
      "length of the dataset =  1857\n",
      "Loading data from Shegaon.csv folder\n",
      "\n",
      "length of the dataset =  1857\n",
      "Loading data from Shillong.csv folder\n",
      "\n",
      "length of the dataset =  1857\n",
      "Loading data from shimoga.csv folder\n",
      "\n",
      "length of the dataset =  1857\n",
      "Loading data from Shoranur.csv folder\n",
      "\n",
      "length of the dataset =  1857\n",
      "Loading data from Simdega.csv folder\n",
      "\n",
      "length of the dataset =  1857\n",
      "Loading data from spiti.csv folder\n",
      "\n",
      "length of the dataset =  1857\n",
      "Loading data from Srinagar.csv folder\n",
      "\n",
      "length of the dataset =  1857\n",
      "Loading data from Surat.csv folder\n",
      "\n",
      "length of the dataset =  1857\n",
      "Loading data from Talcher.csv folder\n",
      "\n",
      "length of the dataset =  1857\n",
      "Loading data from Tehri.csv folder\n",
      "\n",
      "length of the dataset =  1857\n",
      "Loading data from Thane.csv folder\n",
      "\n",
      "length of the dataset =  1857\n",
      "Loading data from Thanjavur.csv folder\n",
      "\n",
      "length of the dataset =  1857\n",
      "Loading data from Thirumangalam.csv folder\n",
      "\n",
      "length of the dataset =  1857\n",
      "Loading data from Tikamgarh.csv folder\n",
      "\n",
      "length of the dataset =  1857\n",
      "Loading data from Trivandrum.csv folder\n",
      "\n",
      "length of the dataset =  1857\n",
      "Loading data from Umred.csv folder\n",
      "\n",
      "length of the dataset =  1857\n",
      "Loading data from Vadodara.csv folder\n",
      "\n",
      "length of the dataset =  1857\n",
      "Loading data from Vaniyambadi.csv folder\n",
      "\n",
      "length of the dataset =  1857\n",
      "Loading data from Varanasi.csv folder\n",
      "\n",
      "length of the dataset =  1857\n",
      "Loading data from Vijayawada.csv folder\n",
      "\n",
      "length of the dataset =  1857\n",
      "Loading data from Washim.csv folder\n",
      "\n",
      "length of the dataset =  1857\n",
      "0\n",
      "1\n",
      "2\n",
      "3\n",
      "4\n",
      "5\n",
      "6\n",
      "7\n",
      "8\n",
      "9\n",
      "10\n",
      "11\n",
      "12\n",
      "13\n",
      "14\n",
      "15\n",
      "16\n",
      "17\n",
      "18\n",
      "19\n",
      "20\n",
      "21\n",
      "22\n",
      "23\n",
      "24\n",
      "25\n",
      "26\n",
      "27\n",
      "28\n",
      "29\n",
      "30\n",
      "31\n",
      "32\n",
      "33\n",
      "34\n",
      "35\n",
      "36\n",
      "37\n",
      "38\n",
      "39\n",
      "40\n",
      "41\n",
      "42\n",
      "43\n",
      "44\n",
      "45\n",
      "46\n",
      "47\n",
      "48\n",
      "49\n",
      "50\n",
      "51\n",
      "52\n",
      "53\n",
      "54\n",
      "55\n",
      "56\n",
      "57\n",
      "58\n",
      "59\n",
      "60\n",
      "61\n",
      "62\n",
      "63\n",
      "64\n",
      "65\n",
      "66\n",
      "67\n",
      "68\n",
      "69\n",
      "70\n",
      "71\n",
      "72\n",
      "73\n",
      "74\n",
      "75\n",
      "76\n",
      "77\n",
      "78\n",
      "79\n",
      "80\n",
      "81\n",
      "82\n",
      "83\n",
      "84\n",
      "85\n",
      "86\n",
      "87\n",
      "88\n",
      "89\n",
      "90\n",
      "91\n",
      "92\n",
      "93\n",
      "94\n",
      "95\n",
      "96\n",
      "97\n",
      "98\n",
      "99\n"
     ]
    }
   ],
   "source": [
    "data_dir_list=os.listdir(PATH)\n",
    "\n",
    "for dataset in data_dir_list:\n",
    "    classes_names_list.append(dataset) \n",
    "    print ('Loading data from {} folder\\n'.format(dataset))\n",
    "    temp=pd.read_csv('C:\\Weather Report_100 Indian Cities'+'\\\\'+dataset)\n",
    "    print(\"length of the dataset = \",temp.shape[0])\n",
    "    file_data_list=file_data_list.append(temp, ignore_index = True)\n",
    "    dataset_size.append(temp.shape[0])\n",
    "    \n",
    "    \n",
    "    \n",
    "for i in range(len(data_dir_list)):\n",
    "    target_column[(dataset_size[i]*i):(dataset_size[i]*(i+1))]=i\n",
    "    print(i)"
   ]
  },
  {
   "cell_type": "code",
   "execution_count": 7,
   "metadata": {},
   "outputs": [
    {
     "data": {
      "text/plain": [
       "[1857,\n",
       " 1857,\n",
       " 1857,\n",
       " 1857,\n",
       " 1857,\n",
       " 1857,\n",
       " 1857,\n",
       " 1857,\n",
       " 1857,\n",
       " 1857,\n",
       " 1857,\n",
       " 1857,\n",
       " 1857,\n",
       " 1857,\n",
       " 1857,\n",
       " 1857,\n",
       " 1857,\n",
       " 1857,\n",
       " 1857,\n",
       " 1857,\n",
       " 1857,\n",
       " 1857,\n",
       " 1857,\n",
       " 1857,\n",
       " 1857,\n",
       " 1857,\n",
       " 1857,\n",
       " 1857,\n",
       " 1857,\n",
       " 1857,\n",
       " 1857,\n",
       " 1857,\n",
       " 1857,\n",
       " 1857,\n",
       " 1857,\n",
       " 1857,\n",
       " 1857,\n",
       " 1857,\n",
       " 1857,\n",
       " 1857,\n",
       " 1857,\n",
       " 1857,\n",
       " 1857,\n",
       " 1857,\n",
       " 1857,\n",
       " 1857,\n",
       " 1857,\n",
       " 1857,\n",
       " 1857,\n",
       " 1857,\n",
       " 1857,\n",
       " 1857,\n",
       " 1857,\n",
       " 1857,\n",
       " 1857,\n",
       " 1857,\n",
       " 1857,\n",
       " 1857,\n",
       " 1857,\n",
       " 1857,\n",
       " 1857,\n",
       " 1857,\n",
       " 1857,\n",
       " 1857,\n",
       " 1857,\n",
       " 1857,\n",
       " 1857,\n",
       " 1857,\n",
       " 1857,\n",
       " 1857,\n",
       " 1857,\n",
       " 1857,\n",
       " 1857,\n",
       " 1857,\n",
       " 1857,\n",
       " 1857,\n",
       " 1857,\n",
       " 1857,\n",
       " 1857,\n",
       " 1857,\n",
       " 1857,\n",
       " 1857,\n",
       " 1857,\n",
       " 1857,\n",
       " 1857,\n",
       " 1857,\n",
       " 1857,\n",
       " 1857,\n",
       " 1857,\n",
       " 1857,\n",
       " 1857,\n",
       " 1857,\n",
       " 1857,\n",
       " 1857,\n",
       " 1857,\n",
       " 1857,\n",
       " 1857,\n",
       " 1857,\n",
       " 1857,\n",
       " 1857]"
      ]
     },
     "execution_count": 7,
     "metadata": {},
     "output_type": "execute_result"
    }
   ],
   "source": [
    "dataset_size"
   ]
  },
  {
   "cell_type": "code",
   "execution_count": 8,
   "metadata": {
    "scrolled": true
   },
   "outputs": [
    {
     "data": {
      "text/plain": [
       "(185700, 26)"
      ]
     },
     "execution_count": 8,
     "metadata": {},
     "output_type": "execute_result"
    }
   ],
   "source": [
    "file_data_list.shape"
   ]
  },
  {
   "cell_type": "code",
   "execution_count": 9,
   "metadata": {},
   "outputs": [
    {
     "data": {
      "text/plain": [
       "array([[   0,    1,    2,    3,    4,    5,    6,    7,    8,    9,   10,\n",
       "          11,   12,   13,   14,   15,   16,   17,   18,   19,   20,   21,\n",
       "          22,   23,   24,   25,   26,   27,   28,   29,   30,   31,   32,\n",
       "          33,   34,   35,   36,   37,   38,   39,   40,   41,   42,   43,\n",
       "          44,   45,   46,   47,   48,   49,   50,   51,   52,   53,   54,\n",
       "          55,   56,   57,   58,   59,   60,   61,   62,   63,   64,   65,\n",
       "          66,   67,   68,   69,   70,   71,   72,   73,   74,   75,   76,\n",
       "          77,   78,   79,   80,   81,   82,   83,   84,   85,   86,   87,\n",
       "          88,   89,   90,   91,   92,   93,   94,   95,   96,   97,   98,\n",
       "          99],\n",
       "       [1857, 1857, 1857, 1857, 1857, 1857, 1857, 1857, 1857, 1857, 1857,\n",
       "        1857, 1857, 1857, 1857, 1857, 1857, 1857, 1857, 1857, 1857, 1857,\n",
       "        1857, 1857, 1857, 1857, 1857, 1857, 1857, 1857, 1857, 1857, 1857,\n",
       "        1857, 1857, 1857, 1857, 1857, 1857, 1857, 1857, 1857, 1857, 1857,\n",
       "        1857, 1857, 1857, 1857, 1857, 1857, 1857, 1857, 1857, 1857, 1857,\n",
       "        1857, 1857, 1857, 1857, 1857, 1857, 1857, 1857, 1857, 1857, 1857,\n",
       "        1857, 1857, 1857, 1857, 1857, 1857, 1857, 1857, 1857, 1857, 1857,\n",
       "        1857, 1857, 1857, 1857, 1857, 1857, 1857, 1857, 1857, 1857, 1857,\n",
       "        1857, 1857, 1857, 1857, 1857, 1857, 1857, 1857, 1857, 1857, 1857,\n",
       "        1857]], dtype=int64)"
      ]
     },
     "execution_count": 9,
     "metadata": {},
     "output_type": "execute_result"
    }
   ],
   "source": [
    "value,counts=np.unique(target_column,return_counts=True)\n",
    "np.asarray((value, counts))"
   ]
  },
  {
   "cell_type": "code",
   "execution_count": 10,
   "metadata": {},
   "outputs": [
    {
     "data": {
      "text/html": [
       "<div>\n",
       "<style scoped>\n",
       "    .dataframe tbody tr th:only-of-type {\n",
       "        vertical-align: middle;\n",
       "    }\n",
       "\n",
       "    .dataframe tbody tr th {\n",
       "        vertical-align: top;\n",
       "    }\n",
       "\n",
       "    .dataframe thead th {\n",
       "        text-align: right;\n",
       "    }\n",
       "</style>\n",
       "<table border=\"1\" class=\"dataframe\">\n",
       "  <thead>\n",
       "    <tr style=\"text-align: right;\">\n",
       "      <th></th>\n",
       "      <th>City Name</th>\n",
       "      <th>DewPointC</th>\n",
       "      <th>FeelsLikeC</th>\n",
       "      <th>HeatIndexC</th>\n",
       "      <th>WindChillC</th>\n",
       "      <th>WindGustKmph</th>\n",
       "      <th>cloudcover</th>\n",
       "      <th>date_time</th>\n",
       "      <th>humidity</th>\n",
       "      <th>maxtempC</th>\n",
       "      <th>...</th>\n",
       "      <th>sunHour</th>\n",
       "      <th>sunrise</th>\n",
       "      <th>sunset</th>\n",
       "      <th>tempC</th>\n",
       "      <th>totalSnow_cm</th>\n",
       "      <th>uvIndex</th>\n",
       "      <th>uvIndex.1</th>\n",
       "      <th>visibility</th>\n",
       "      <th>winddirDegree</th>\n",
       "      <th>windspeedKmph</th>\n",
       "    </tr>\n",
       "  </thead>\n",
       "  <tbody>\n",
       "    <tr>\n",
       "      <th>0</th>\n",
       "      <td>NaN</td>\n",
       "      <td>14</td>\n",
       "      <td>20</td>\n",
       "      <td>21</td>\n",
       "      <td>20</td>\n",
       "      <td>11</td>\n",
       "      <td>0</td>\n",
       "      <td>2014-01-01</td>\n",
       "      <td>69</td>\n",
       "      <td>24</td>\n",
       "      <td>...</td>\n",
       "      <td>8.7</td>\n",
       "      <td>06:07 AM</td>\n",
       "      <td>04:49 PM</td>\n",
       "      <td>24</td>\n",
       "      <td>0.0</td>\n",
       "      <td>5</td>\n",
       "      <td>5</td>\n",
       "      <td>10</td>\n",
       "      <td>287</td>\n",
       "      <td>6</td>\n",
       "    </tr>\n",
       "    <tr>\n",
       "      <th>1</th>\n",
       "      <td>NaN</td>\n",
       "      <td>15</td>\n",
       "      <td>21</td>\n",
       "      <td>22</td>\n",
       "      <td>21</td>\n",
       "      <td>12</td>\n",
       "      <td>1</td>\n",
       "      <td>2014-01-02</td>\n",
       "      <td>71</td>\n",
       "      <td>25</td>\n",
       "      <td>...</td>\n",
       "      <td>8.7</td>\n",
       "      <td>06:08 AM</td>\n",
       "      <td>04:50 PM</td>\n",
       "      <td>25</td>\n",
       "      <td>0.0</td>\n",
       "      <td>5</td>\n",
       "      <td>5</td>\n",
       "      <td>10</td>\n",
       "      <td>320</td>\n",
       "      <td>7</td>\n",
       "    </tr>\n",
       "    <tr>\n",
       "      <th>2</th>\n",
       "      <td>NaN</td>\n",
       "      <td>13</td>\n",
       "      <td>20</td>\n",
       "      <td>21</td>\n",
       "      <td>20</td>\n",
       "      <td>13</td>\n",
       "      <td>0</td>\n",
       "      <td>2014-01-03</td>\n",
       "      <td>64</td>\n",
       "      <td>23</td>\n",
       "      <td>...</td>\n",
       "      <td>8.7</td>\n",
       "      <td>06:08 AM</td>\n",
       "      <td>04:50 PM</td>\n",
       "      <td>23</td>\n",
       "      <td>0.0</td>\n",
       "      <td>5</td>\n",
       "      <td>5</td>\n",
       "      <td>10</td>\n",
       "      <td>318</td>\n",
       "      <td>8</td>\n",
       "    </tr>\n",
       "    <tr>\n",
       "      <th>3</th>\n",
       "      <td>NaN</td>\n",
       "      <td>14</td>\n",
       "      <td>19</td>\n",
       "      <td>20</td>\n",
       "      <td>19</td>\n",
       "      <td>13</td>\n",
       "      <td>0</td>\n",
       "      <td>2014-01-04</td>\n",
       "      <td>71</td>\n",
       "      <td>23</td>\n",
       "      <td>...</td>\n",
       "      <td>8.7</td>\n",
       "      <td>06:08 AM</td>\n",
       "      <td>04:51 PM</td>\n",
       "      <td>23</td>\n",
       "      <td>0.0</td>\n",
       "      <td>5</td>\n",
       "      <td>5</td>\n",
       "      <td>10</td>\n",
       "      <td>294</td>\n",
       "      <td>8</td>\n",
       "    </tr>\n",
       "    <tr>\n",
       "      <th>4</th>\n",
       "      <td>NaN</td>\n",
       "      <td>15</td>\n",
       "      <td>20</td>\n",
       "      <td>21</td>\n",
       "      <td>20</td>\n",
       "      <td>7</td>\n",
       "      <td>2</td>\n",
       "      <td>2014-01-05</td>\n",
       "      <td>73</td>\n",
       "      <td>23</td>\n",
       "      <td>...</td>\n",
       "      <td>8.7</td>\n",
       "      <td>06:08 AM</td>\n",
       "      <td>04:52 PM</td>\n",
       "      <td>23</td>\n",
       "      <td>0.0</td>\n",
       "      <td>5</td>\n",
       "      <td>5</td>\n",
       "      <td>10</td>\n",
       "      <td>290</td>\n",
       "      <td>4</td>\n",
       "    </tr>\n",
       "  </tbody>\n",
       "</table>\n",
       "<p>5 rows × 26 columns</p>\n",
       "</div>"
      ],
      "text/plain": [
       "  City Name  DewPointC  FeelsLikeC  HeatIndexC  WindChillC  WindGustKmph  \\\n",
       "0       NaN         14          20          21          20            11   \n",
       "1       NaN         15          21          22          21            12   \n",
       "2       NaN         13          20          21          20            13   \n",
       "3       NaN         14          19          20          19            13   \n",
       "4       NaN         15          20          21          20             7   \n",
       "\n",
       "   cloudcover   date_time  humidity  maxtempC      ...        sunHour  \\\n",
       "0           0  2014-01-01        69        24      ...            8.7   \n",
       "1           1  2014-01-02        71        25      ...            8.7   \n",
       "2           0  2014-01-03        64        23      ...            8.7   \n",
       "3           0  2014-01-04        71        23      ...            8.7   \n",
       "4           2  2014-01-05        73        23      ...            8.7   \n",
       "\n",
       "    sunrise    sunset tempC  totalSnow_cm  uvIndex  uvIndex.1 visibility  \\\n",
       "0  06:07 AM  04:49 PM    24           0.0        5          5         10   \n",
       "1  06:08 AM  04:50 PM    25           0.0        5          5         10   \n",
       "2  06:08 AM  04:50 PM    23           0.0        5          5         10   \n",
       "3  06:08 AM  04:51 PM    23           0.0        5          5         10   \n",
       "4  06:08 AM  04:52 PM    23           0.0        5          5         10   \n",
       "\n",
       "  winddirDegree  windspeedKmph  \n",
       "0           287              6  \n",
       "1           320              7  \n",
       "2           318              8  \n",
       "3           294              8  \n",
       "4           290              4  \n",
       "\n",
       "[5 rows x 26 columns]"
      ]
     },
     "execution_count": 10,
     "metadata": {},
     "output_type": "execute_result"
    }
   ],
   "source": [
    "file_data_list.head()"
   ]
  },
  {
   "cell_type": "code",
   "execution_count": 11,
   "metadata": {},
   "outputs": [
    {
     "data": {
      "text/html": [
       "<div>\n",
       "<style scoped>\n",
       "    .dataframe tbody tr th:only-of-type {\n",
       "        vertical-align: middle;\n",
       "    }\n",
       "\n",
       "    .dataframe tbody tr th {\n",
       "        vertical-align: top;\n",
       "    }\n",
       "\n",
       "    .dataframe thead th {\n",
       "        text-align: right;\n",
       "    }\n",
       "</style>\n",
       "<table border=\"1\" class=\"dataframe\">\n",
       "  <thead>\n",
       "    <tr style=\"text-align: right;\">\n",
       "      <th></th>\n",
       "      <th>City Name</th>\n",
       "      <th>DewPointC</th>\n",
       "      <th>FeelsLikeC</th>\n",
       "      <th>HeatIndexC</th>\n",
       "      <th>WindChillC</th>\n",
       "      <th>WindGustKmph</th>\n",
       "      <th>cloudcover</th>\n",
       "      <th>date_time</th>\n",
       "      <th>humidity</th>\n",
       "      <th>maxtempC</th>\n",
       "      <th>...</th>\n",
       "      <th>sunHour</th>\n",
       "      <th>sunrise</th>\n",
       "      <th>sunset</th>\n",
       "      <th>tempC</th>\n",
       "      <th>totalSnow_cm</th>\n",
       "      <th>uvIndex</th>\n",
       "      <th>uvIndex.1</th>\n",
       "      <th>visibility</th>\n",
       "      <th>winddirDegree</th>\n",
       "      <th>windspeedKmph</th>\n",
       "    </tr>\n",
       "  </thead>\n",
       "  <tbody>\n",
       "    <tr>\n",
       "      <th>185695</th>\n",
       "      <td>NaN</td>\n",
       "      <td>0</td>\n",
       "      <td>19</td>\n",
       "      <td>19</td>\n",
       "      <td>19</td>\n",
       "      <td>25</td>\n",
       "      <td>0</td>\n",
       "      <td>2018-12-27</td>\n",
       "      <td>28</td>\n",
       "      <td>25</td>\n",
       "      <td>...</td>\n",
       "      <td>8.7</td>\n",
       "      <td>06:55 AM</td>\n",
       "      <td>05:50 PM</td>\n",
       "      <td>25</td>\n",
       "      <td>0.0</td>\n",
       "      <td>5</td>\n",
       "      <td>5</td>\n",
       "      <td>10</td>\n",
       "      <td>342</td>\n",
       "      <td>16</td>\n",
       "    </tr>\n",
       "    <tr>\n",
       "      <th>185696</th>\n",
       "      <td>NaN</td>\n",
       "      <td>0</td>\n",
       "      <td>18</td>\n",
       "      <td>18</td>\n",
       "      <td>18</td>\n",
       "      <td>13</td>\n",
       "      <td>0</td>\n",
       "      <td>2018-12-28</td>\n",
       "      <td>29</td>\n",
       "      <td>23</td>\n",
       "      <td>...</td>\n",
       "      <td>8.7</td>\n",
       "      <td>06:55 AM</td>\n",
       "      <td>05:51 PM</td>\n",
       "      <td>23</td>\n",
       "      <td>0.0</td>\n",
       "      <td>5</td>\n",
       "      <td>5</td>\n",
       "      <td>10</td>\n",
       "      <td>80</td>\n",
       "      <td>9</td>\n",
       "    </tr>\n",
       "    <tr>\n",
       "      <th>185697</th>\n",
       "      <td>NaN</td>\n",
       "      <td>-2</td>\n",
       "      <td>18</td>\n",
       "      <td>18</td>\n",
       "      <td>18</td>\n",
       "      <td>13</td>\n",
       "      <td>0</td>\n",
       "      <td>2018-12-29</td>\n",
       "      <td>26</td>\n",
       "      <td>23</td>\n",
       "      <td>...</td>\n",
       "      <td>8.7</td>\n",
       "      <td>06:55 AM</td>\n",
       "      <td>05:51 PM</td>\n",
       "      <td>23</td>\n",
       "      <td>0.0</td>\n",
       "      <td>5</td>\n",
       "      <td>5</td>\n",
       "      <td>10</td>\n",
       "      <td>72</td>\n",
       "      <td>9</td>\n",
       "    </tr>\n",
       "    <tr>\n",
       "      <th>185698</th>\n",
       "      <td>NaN</td>\n",
       "      <td>0</td>\n",
       "      <td>19</td>\n",
       "      <td>19</td>\n",
       "      <td>19</td>\n",
       "      <td>13</td>\n",
       "      <td>0</td>\n",
       "      <td>2018-12-30</td>\n",
       "      <td>30</td>\n",
       "      <td>24</td>\n",
       "      <td>...</td>\n",
       "      <td>8.7</td>\n",
       "      <td>06:56 AM</td>\n",
       "      <td>05:52 PM</td>\n",
       "      <td>24</td>\n",
       "      <td>0.0</td>\n",
       "      <td>5</td>\n",
       "      <td>5</td>\n",
       "      <td>10</td>\n",
       "      <td>92</td>\n",
       "      <td>9</td>\n",
       "    </tr>\n",
       "    <tr>\n",
       "      <th>185699</th>\n",
       "      <td>NaN</td>\n",
       "      <td>-2</td>\n",
       "      <td>21</td>\n",
       "      <td>20</td>\n",
       "      <td>21</td>\n",
       "      <td>10</td>\n",
       "      <td>0</td>\n",
       "      <td>2018-12-31</td>\n",
       "      <td>23</td>\n",
       "      <td>26</td>\n",
       "      <td>...</td>\n",
       "      <td>8.7</td>\n",
       "      <td>06:56 AM</td>\n",
       "      <td>05:53 PM</td>\n",
       "      <td>26</td>\n",
       "      <td>0.0</td>\n",
       "      <td>5</td>\n",
       "      <td>5</td>\n",
       "      <td>10</td>\n",
       "      <td>93</td>\n",
       "      <td>7</td>\n",
       "    </tr>\n",
       "  </tbody>\n",
       "</table>\n",
       "<p>5 rows × 26 columns</p>\n",
       "</div>"
      ],
      "text/plain": [
       "       City Name  DewPointC  FeelsLikeC  HeatIndexC  WindChillC  WindGustKmph  \\\n",
       "185695       NaN          0          19          19          19            25   \n",
       "185696       NaN          0          18          18          18            13   \n",
       "185697       NaN         -2          18          18          18            13   \n",
       "185698       NaN          0          19          19          19            13   \n",
       "185699       NaN         -2          21          20          21            10   \n",
       "\n",
       "        cloudcover   date_time  humidity  maxtempC      ...        sunHour  \\\n",
       "185695           0  2018-12-27        28        25      ...            8.7   \n",
       "185696           0  2018-12-28        29        23      ...            8.7   \n",
       "185697           0  2018-12-29        26        23      ...            8.7   \n",
       "185698           0  2018-12-30        30        24      ...            8.7   \n",
       "185699           0  2018-12-31        23        26      ...            8.7   \n",
       "\n",
       "         sunrise    sunset tempC  totalSnow_cm  uvIndex  uvIndex.1 visibility  \\\n",
       "185695  06:55 AM  05:50 PM    25           0.0        5          5         10   \n",
       "185696  06:55 AM  05:51 PM    23           0.0        5          5         10   \n",
       "185697  06:55 AM  05:51 PM    23           0.0        5          5         10   \n",
       "185698  06:56 AM  05:52 PM    24           0.0        5          5         10   \n",
       "185699  06:56 AM  05:53 PM    26           0.0        5          5         10   \n",
       "\n",
       "       winddirDegree  windspeedKmph  \n",
       "185695           342             16  \n",
       "185696            80              9  \n",
       "185697            72              9  \n",
       "185698            92              9  \n",
       "185699            93              7  \n",
       "\n",
       "[5 rows x 26 columns]"
      ]
     },
     "execution_count": 11,
     "metadata": {},
     "output_type": "execute_result"
    }
   ],
   "source": [
    "file_data_list.tail()"
   ]
  },
  {
   "cell_type": "code",
   "execution_count": 12,
   "metadata": {},
   "outputs": [],
   "source": [
    "#file_data_list.to_csv('file.csv',sep=',',index=False)"
   ]
  },
  {
   "cell_type": "code",
   "execution_count": null,
   "metadata": {},
   "outputs": [],
   "source": [
    "#file_data_list['date_time'] = pd.to_datetime(file_data_list.date_time,format='%d-%m-%Y') "
   ]
  },
  {
   "cell_type": "code",
   "execution_count": null,
   "metadata": {},
   "outputs": [],
   "source": [
    "#file_data_list['month']=file_data_list.date_time.dt.month"
   ]
  },
  {
   "cell_type": "code",
   "execution_count": 13,
   "metadata": {},
   "outputs": [],
   "source": [
    "file_data_list['target_column']=target_column"
   ]
  },
  {
   "cell_type": "code",
   "execution_count": 14,
   "metadata": {},
   "outputs": [
    {
     "data": {
      "text/plain": [
       "array([ 0,  1,  2,  3,  4,  5,  6,  7,  8,  9, 10, 11, 12, 13, 14, 15, 16,\n",
       "       17, 18, 19, 20, 21, 22, 23, 24, 25, 26, 27, 28, 29, 30, 31, 32, 33,\n",
       "       34, 35, 36, 37, 38, 39, 40, 41, 42, 43, 44, 45, 46, 47, 48, 49, 50,\n",
       "       51, 52, 53, 54, 55, 56, 57, 58, 59, 60, 61, 62, 63, 64, 65, 66, 67,\n",
       "       68, 69, 70, 71, 72, 73, 74, 75, 76, 77, 78, 79, 80, 81, 82, 83, 84,\n",
       "       85, 86, 87, 88, 89, 90, 91, 92, 93, 94, 95, 96, 97, 98, 99],\n",
       "      dtype=int64)"
      ]
     },
     "execution_count": 14,
     "metadata": {},
     "output_type": "execute_result"
    }
   ],
   "source": [
    "np.unique(file_data_list['target_column'])"
   ]
  },
  {
   "cell_type": "code",
   "execution_count": 15,
   "metadata": {},
   "outputs": [],
   "source": [
    "X=pd.DataFrame()\n",
    "X['cities']=np.unique(file_data_list['target_column'])"
   ]
  },
  {
   "cell_type": "code",
   "execution_count": 16,
   "metadata": {},
   "outputs": [],
   "source": [
    "X['tempC']=file_data_list.groupby(('target_column')).mean()['tempC']"
   ]
  },
  {
   "cell_type": "code",
   "execution_count": 17,
   "metadata": {},
   "outputs": [],
   "source": [
    "X['sunHour']=file_data_list.groupby(('target_column')).mean()['sunHour']"
   ]
  },
  {
   "cell_type": "code",
   "execution_count": 18,
   "metadata": {},
   "outputs": [],
   "source": [
    "X['precipMM']=file_data_list.groupby(('target_column')).mean()['precipMM']"
   ]
  },
  {
   "cell_type": "code",
   "execution_count": 19,
   "metadata": {},
   "outputs": [
    {
     "data": {
      "text/html": [
       "<div>\n",
       "<style scoped>\n",
       "    .dataframe tbody tr th:only-of-type {\n",
       "        vertical-align: middle;\n",
       "    }\n",
       "\n",
       "    .dataframe tbody tr th {\n",
       "        vertical-align: top;\n",
       "    }\n",
       "\n",
       "    .dataframe thead th {\n",
       "        text-align: right;\n",
       "    }\n",
       "</style>\n",
       "<table border=\"1\" class=\"dataframe\">\n",
       "  <thead>\n",
       "    <tr style=\"text-align: right;\">\n",
       "      <th></th>\n",
       "      <th>cities</th>\n",
       "      <th>tempC</th>\n",
       "      <th>sunHour</th>\n",
       "      <th>precipMM</th>\n",
       "    </tr>\n",
       "  </thead>\n",
       "  <tbody>\n",
       "    <tr>\n",
       "      <th>0</th>\n",
       "      <td>0</td>\n",
       "      <td>30.844911</td>\n",
       "      <td>10.972482</td>\n",
       "      <td>2.156381</td>\n",
       "    </tr>\n",
       "    <tr>\n",
       "      <th>1</th>\n",
       "      <td>1</td>\n",
       "      <td>33.299408</td>\n",
       "      <td>11.161820</td>\n",
       "      <td>0.848627</td>\n",
       "    </tr>\n",
       "    <tr>\n",
       "      <th>2</th>\n",
       "      <td>2</td>\n",
       "      <td>34.569198</td>\n",
       "      <td>10.750835</td>\n",
       "      <td>0.903339</td>\n",
       "    </tr>\n",
       "    <tr>\n",
       "      <th>3</th>\n",
       "      <td>3</td>\n",
       "      <td>33.639203</td>\n",
       "      <td>11.005816</td>\n",
       "      <td>0.872052</td>\n",
       "    </tr>\n",
       "    <tr>\n",
       "      <th>4</th>\n",
       "      <td>4</td>\n",
       "      <td>32.561659</td>\n",
       "      <td>11.241303</td>\n",
       "      <td>0.611362</td>\n",
       "    </tr>\n",
       "  </tbody>\n",
       "</table>\n",
       "</div>"
      ],
      "text/plain": [
       "   cities      tempC    sunHour  precipMM\n",
       "0       0  30.844911  10.972482  2.156381\n",
       "1       1  33.299408  11.161820  0.848627\n",
       "2       2  34.569198  10.750835  0.903339\n",
       "3       3  33.639203  11.005816  0.872052\n",
       "4       4  32.561659  11.241303  0.611362"
      ]
     },
     "execution_count": 19,
     "metadata": {},
     "output_type": "execute_result"
    }
   ],
   "source": [
    "X.head()"
   ]
  },
  {
   "cell_type": "code",
   "execution_count": 20,
   "metadata": {},
   "outputs": [
    {
     "data": {
      "text/html": [
       "<div>\n",
       "<style scoped>\n",
       "    .dataframe tbody tr th:only-of-type {\n",
       "        vertical-align: middle;\n",
       "    }\n",
       "\n",
       "    .dataframe tbody tr th {\n",
       "        vertical-align: top;\n",
       "    }\n",
       "\n",
       "    .dataframe thead th {\n",
       "        text-align: right;\n",
       "    }\n",
       "</style>\n",
       "<table border=\"1\" class=\"dataframe\">\n",
       "  <thead>\n",
       "    <tr style=\"text-align: right;\">\n",
       "      <th></th>\n",
       "      <th>cities</th>\n",
       "      <th>tempC</th>\n",
       "      <th>sunHour</th>\n",
       "      <th>precipMM</th>\n",
       "    </tr>\n",
       "  </thead>\n",
       "  <tbody>\n",
       "    <tr>\n",
       "      <th>95</th>\n",
       "      <td>95</td>\n",
       "      <td>34.018309</td>\n",
       "      <td>10.861820</td>\n",
       "      <td>1.168605</td>\n",
       "    </tr>\n",
       "    <tr>\n",
       "      <th>96</th>\n",
       "      <td>96</td>\n",
       "      <td>31.817986</td>\n",
       "      <td>10.808616</td>\n",
       "      <td>1.119548</td>\n",
       "    </tr>\n",
       "    <tr>\n",
       "      <th>97</th>\n",
       "      <td>97</td>\n",
       "      <td>33.297792</td>\n",
       "      <td>11.012547</td>\n",
       "      <td>1.147658</td>\n",
       "    </tr>\n",
       "    <tr>\n",
       "      <th>98</th>\n",
       "      <td>98</td>\n",
       "      <td>34.705439</td>\n",
       "      <td>10.915724</td>\n",
       "      <td>0.825094</td>\n",
       "    </tr>\n",
       "    <tr>\n",
       "      <th>99</th>\n",
       "      <td>99</td>\n",
       "      <td>32.477114</td>\n",
       "      <td>10.958751</td>\n",
       "      <td>0.885299</td>\n",
       "    </tr>\n",
       "  </tbody>\n",
       "</table>\n",
       "</div>"
      ],
      "text/plain": [
       "    cities      tempC    sunHour  precipMM\n",
       "95      95  34.018309  10.861820  1.168605\n",
       "96      96  31.817986  10.808616  1.119548\n",
       "97      97  33.297792  11.012547  1.147658\n",
       "98      98  34.705439  10.915724  0.825094\n",
       "99      99  32.477114  10.958751  0.885299"
      ]
     },
     "execution_count": 20,
     "metadata": {},
     "output_type": "execute_result"
    }
   ],
   "source": [
    "X.tail()"
   ]
  },
  {
   "cell_type": "code",
   "execution_count": 21,
   "metadata": {},
   "outputs": [],
   "source": [
    "X.drop(columns='cities',inplace=True)"
   ]
  },
  {
   "cell_type": "code",
   "execution_count": 22,
   "metadata": {},
   "outputs": [
    {
     "data": {
      "text/html": [
       "<div>\n",
       "<style scoped>\n",
       "    .dataframe tbody tr th:only-of-type {\n",
       "        vertical-align: middle;\n",
       "    }\n",
       "\n",
       "    .dataframe tbody tr th {\n",
       "        vertical-align: top;\n",
       "    }\n",
       "\n",
       "    .dataframe thead th {\n",
       "        text-align: right;\n",
       "    }\n",
       "</style>\n",
       "<table border=\"1\" class=\"dataframe\">\n",
       "  <thead>\n",
       "    <tr style=\"text-align: right;\">\n",
       "      <th></th>\n",
       "      <th>tempC</th>\n",
       "      <th>sunHour</th>\n",
       "      <th>precipMM</th>\n",
       "    </tr>\n",
       "  </thead>\n",
       "  <tbody>\n",
       "    <tr>\n",
       "      <th>0</th>\n",
       "      <td>30.844911</td>\n",
       "      <td>10.972482</td>\n",
       "      <td>2.156381</td>\n",
       "    </tr>\n",
       "    <tr>\n",
       "      <th>1</th>\n",
       "      <td>33.299408</td>\n",
       "      <td>11.161820</td>\n",
       "      <td>0.848627</td>\n",
       "    </tr>\n",
       "    <tr>\n",
       "      <th>2</th>\n",
       "      <td>34.569198</td>\n",
       "      <td>10.750835</td>\n",
       "      <td>0.903339</td>\n",
       "    </tr>\n",
       "    <tr>\n",
       "      <th>3</th>\n",
       "      <td>33.639203</td>\n",
       "      <td>11.005816</td>\n",
       "      <td>0.872052</td>\n",
       "    </tr>\n",
       "    <tr>\n",
       "      <th>4</th>\n",
       "      <td>32.561659</td>\n",
       "      <td>11.241303</td>\n",
       "      <td>0.611362</td>\n",
       "    </tr>\n",
       "  </tbody>\n",
       "</table>\n",
       "</div>"
      ],
      "text/plain": [
       "       tempC    sunHour  precipMM\n",
       "0  30.844911  10.972482  2.156381\n",
       "1  33.299408  11.161820  0.848627\n",
       "2  34.569198  10.750835  0.903339\n",
       "3  33.639203  11.005816  0.872052\n",
       "4  32.561659  11.241303  0.611362"
      ]
     },
     "execution_count": 22,
     "metadata": {},
     "output_type": "execute_result"
    }
   ],
   "source": [
    "X.head()"
   ]
  },
  {
   "cell_type": "code",
   "execution_count": 25,
   "metadata": {},
   "outputs": [],
   "source": [
    "from sklearn.cluster import KMeans\n",
    "import matplotlib"
   ]
  },
  {
   "cell_type": "code",
   "execution_count": 69,
   "metadata": {
    "scrolled": true
   },
   "outputs": [
    {
     "data": {
      "image/png": "[encoded data removed]",
      "text/plain": [
       "<Figure size 432x288 with 1 Axes>"
      ]
     },
     "metadata": {},
     "output_type": "display_data"
    }
   ],
   "source": [
    "wcss=[]\n",
    "for i in range(1, 11):\n",
    "   kmeans = KMeans(n_clusters = i, init = 'k-means++', random_state = 42,n_init=20)\n",
    "   kmeans.fit(X)\n",
    "   wcss.append(kmeans.inertia_)\n",
    "plt.plot(range(1, 11), wcss)\n",
    "plt.title('The Elbow Method')\n",
    "plt.xlabel('Number of clusters')\n",
    "plt.ylabel('WCSS')\n",
    "plt.show()\n"
   ]
  },
  {
   "cell_type": "code",
   "execution_count": 66,
   "metadata": {},
   "outputs": [
    {
     "data": {
      "text/plain": [
       "[3010.965795299598,\n",
       " 1024.4358548485661,\n",
       " 507.4683115209304,\n",
       " 287.7726935741089,\n",
       " 161.49108958318448,\n",
       " 117.7695848248937,\n",
       " 91.41149434638662,\n",
       " 74.03042396388204,\n",
       " 63.612588769204834,\n",
       " 55.036918390775085]"
      ]
     },
     "execution_count": 66,
     "metadata": {},
     "output_type": "execute_result"
    }
   ],
   "source": [
    "wcss"
   ]
  },
  {
   "cell_type": "code",
   "execution_count": 67,
   "metadata": {},
   "outputs": [
    {
     "data": {
      "text/plain": [
       "55.036918390775085"
      ]
     },
     "execution_count": 67,
     "metadata": {},
     "output_type": "execute_result"
    }
   ],
   "source": [
    "kmeans.inertia_"
   ]
  },
  {
   "cell_type": "code",
   "execution_count": 68,
   "metadata": {},
   "outputs": [
    {
     "data": {
      "text/plain": [
       "<bound method KMeans.score of KMeans(algorithm='auto', copy_x=True, init='k-means++', max_iter=300,\n",
       "    n_clusters=10, n_init=20, n_jobs=None, precompute_distances='auto',\n",
       "    random_state=42, tol=0.0001, verbose=0)>"
      ]
     },
     "execution_count": 68,
     "metadata": {},
     "output_type": "execute_result"
    }
   ],
   "source": [
    "kmeans.score"
   ]
  },
  {
   "cell_type": "code",
   "execution_count": 28,
   "metadata": {},
   "outputs": [],
   "source": [
    "kmeans = KMeans(n_clusters = 4, init = 'k-means++', random_state = 42)\n",
    "y_kmeans = kmeans.fit_predict(X)"
   ]
  },
  {
   "cell_type": "code",
   "execution_count": 29,
   "metadata": {},
   "outputs": [],
   "source": [
    "X['y_kmeans']=y_kmeans"
   ]
  },
  {
   "cell_type": "code",
   "execution_count": 30,
   "metadata": {
    "scrolled": true
   },
   "outputs": [
    {
     "data": {
      "text/html": [
       "<div>\n",
       "<style scoped>\n",
       "    .dataframe tbody tr th:only-of-type {\n",
       "        vertical-align: middle;\n",
       "    }\n",
       "\n",
       "    .dataframe tbody tr th {\n",
       "        vertical-align: top;\n",
       "    }\n",
       "\n",
       "    .dataframe thead th {\n",
       "        text-align: right;\n",
       "    }\n",
       "</style>\n",
       "<table border=\"1\" class=\"dataframe\">\n",
       "  <thead>\n",
       "    <tr style=\"text-align: right;\">\n",
       "      <th></th>\n",
       "      <th>tempC</th>\n",
       "      <th>sunHour</th>\n",
       "      <th>precipMM</th>\n",
       "      <th>y_kmeans</th>\n",
       "    </tr>\n",
       "  </thead>\n",
       "  <tbody>\n",
       "    <tr>\n",
       "      <th>0</th>\n",
       "      <td>30.844911</td>\n",
       "      <td>10.972482</td>\n",
       "      <td>2.156381</td>\n",
       "      <td>0</td>\n",
       "    </tr>\n",
       "    <tr>\n",
       "      <th>1</th>\n",
       "      <td>33.299408</td>\n",
       "      <td>11.161820</td>\n",
       "      <td>0.848627</td>\n",
       "      <td>0</td>\n",
       "    </tr>\n",
       "    <tr>\n",
       "      <th>2</th>\n",
       "      <td>34.569198</td>\n",
       "      <td>10.750835</td>\n",
       "      <td>0.903339</td>\n",
       "      <td>0</td>\n",
       "    </tr>\n",
       "    <tr>\n",
       "      <th>3</th>\n",
       "      <td>33.639203</td>\n",
       "      <td>11.005816</td>\n",
       "      <td>0.872052</td>\n",
       "      <td>0</td>\n",
       "    </tr>\n",
       "    <tr>\n",
       "      <th>4</th>\n",
       "      <td>32.561659</td>\n",
       "      <td>11.241303</td>\n",
       "      <td>0.611362</td>\n",
       "      <td>0</td>\n",
       "    </tr>\n",
       "  </tbody>\n",
       "</table>\n",
       "</div>"
      ],
      "text/plain": [
       "       tempC    sunHour  precipMM  y_kmeans\n",
       "0  30.844911  10.972482  2.156381         0\n",
       "1  33.299408  11.161820  0.848627         0\n",
       "2  34.569198  10.750835  0.903339         0\n",
       "3  33.639203  11.005816  0.872052         0\n",
       "4  32.561659  11.241303  0.611362         0"
      ]
     },
     "execution_count": 30,
     "metadata": {},
     "output_type": "execute_result"
    }
   ],
   "source": [
    "X.head()"
   ]
  },
  {
   "cell_type": "code",
   "execution_count": 31,
   "metadata": {},
   "outputs": [
    {
     "data": {
      "text/plain": [
       "array([[ 0, 86],\n",
       "       [ 1,  9],\n",
       "       [ 2,  4],\n",
       "       [ 3,  1]], dtype=int64)"
      ]
     },
     "execution_count": 31,
     "metadata": {},
     "output_type": "execute_result"
    }
   ],
   "source": [
    "value,counts=np.unique(y_kmeans,return_counts=True)\n",
    "np.asarray((value, counts)).T"
   ]
  },
  {
   "cell_type": "code",
   "execution_count": 32,
   "metadata": {},
   "outputs": [
    {
     "data": {
      "text/plain": [
       "array([[32.41564915, 10.95307135,  1.36154275],\n",
       "       [24.24460001, 10.82615329,  3.66646922],\n",
       "       [15.70126548, 10.81040657,  1.3543888 ],\n",
       "       [-2.77382876, 11.0457189 ,  0.50026925]])"
      ]
     },
     "execution_count": 32,
     "metadata": {},
     "output_type": "execute_result"
    }
   ],
   "source": [
    "centers =(kmeans.cluster_centers_[:,0:3])\n",
    "centers"
   ]
  },
  {
   "cell_type": "code",
   "execution_count": 56,
   "metadata": {},
   "outputs": [
    {
     "data": {
      "text/plain": [
       "array([0, 0, 0, 0, 0, 0, 0, 0, 0, 0, 0, 0, 0, 0, 1, 0, 0, 1, 0, 0, 0, 0,\n",
       "       0, 0, 0, 2, 0, 3, 0, 0, 0, 0, 0, 0, 0, 1, 0, 1, 0, 0, 0, 0, 0, 0,\n",
       "       0, 0, 0, 2, 1, 0, 0, 0, 2, 0, 0, 0, 0, 0, 0, 0, 0, 0, 0, 1, 0, 0,\n",
       "       0, 0, 0, 0, 0, 0, 0, 0, 0, 0, 0, 0, 0, 0, 1, 0, 0, 0, 1, 2, 0, 0,\n",
       "       1, 0, 0, 0, 0, 0, 0, 0, 0, 0, 0, 0])"
      ]
     },
     "execution_count": 56,
     "metadata": {},
     "output_type": "execute_result"
    }
   ],
   "source": [
    "kmeans.labels_"
   ]
  },
  {
   "cell_type": "code",
   "execution_count": 34,
   "metadata": {},
   "outputs": [],
   "source": [
    "cities=[]\n",
    "for j in range(0,len(os.listdir(PATH))):\n",
    "    newstring=str()\n",
    "    for i in range(0,len(os.listdir(PATH)[j])-4):\n",
    "        newstring=newstring+os.listdir(PATH)[j][i]\n",
    "    cities.append(newstring)"
   ]
  },
  {
   "cell_type": "code",
   "execution_count": 55,
   "metadata": {
    "scrolled": true
   },
   "outputs": [
    {
     "name": "stderr",
     "output_type": "stream",
     "text": [
      "C:\\Users\\shrav\\Anaconda3\\lib\\site-packages\\matplotlib\\figure.py:459: UserWarning: matplotlib is currently using a non-GUI backend, so cannot show the figure\n",
      "  \"matplotlib is currently using a non-GUI backend, \"\n"
     ]
    },
    {
     "data": {
      "image/png": "[encoded data removed]",
      "text/plain": [
       "<Figure size 720x720 with 1 Axes>"
      ]
     },
     "metadata": {},
     "output_type": "display_data"
    }
   ],
   "source": [
    "fig = plt.figure(figsize=(10,10))\n",
    "ax = fig.add_subplot(111)\n",
    "scatter = ax.scatter(X.precipMM,X.tempC,c=y_kmeans,s=500)\n",
    "ax.scatter(kmeans.cluster_centers_[:, 2],kmeans.cluster_centers_[:, 0],s=100,c='red',marker='+')\n",
    "for i, txt in enumerate(cities):\n",
    "    ax.annotate(txt, (X.precipMM[i],X.tempC[i]))\n",
    "ax.set_xlabel('rain')\n",
    "ax.set_ylabel('tempc')\n",
    "fig.show()\n"
   ]
  },
  {
   "cell_type": "code",
   "execution_count": 53,
   "metadata": {},
   "outputs": [
    {
     "data": {
      "image/png": "[encoded data removed]",
      "text/plain": [
       "<Figure size 720x720 with 1 Axes>"
      ]
     },
     "metadata": {},
     "output_type": "display_data"
    }
   ],
   "source": [
    "fig = plt.figure(figsize=(10,10))\n",
    "ax = fig.add_subplot(111)\n",
    "scatter = ax.scatter(X.sunHour,X.tempC,c=y_kmeans,s=500)\n",
    "ax.scatter(kmeans.cluster_centers_[:, 1],kmeans.cluster_centers_[:, 0],s=50,c='red',marker='+')\n",
    "for i, txt in enumerate(cities):\n",
    "    ax.annotate(txt, (X.sunHour[i],X.tempC[i]))\n",
    "ax.set_xlabel('sunhour')\n",
    "ax.set_ylabel('tempC')\n",
    "plt.show()\n",
    "\n",
    "fig.savefig('cluster2.png')"
   ]
  },
  {
   "cell_type": "code",
   "execution_count": 39,
   "metadata": {},
   "outputs": [
    {
     "data": {
      "image/png": "[encoded data removed]",
      "text/plain": [
       "<Figure size 720x720 with 1 Axes>"
      ]
     },
     "metadata": {},
     "output_type": "display_data"
    }
   ],
   "source": [
    "fig = plt.figure(figsize=(10,10))\n",
    "ax = fig.add_subplot(111)\n",
    "scatter = ax.scatter(X.sunHour,X.precipMM,c=y_kmeans,s=500)\n",
    "ax.scatter(kmeans.cluster_centers_[:, 1],kmeans.cluster_centers_[:, 2],s=50,c='red',marker='+')\n",
    "for i, txt in enumerate(cities):\n",
    "    ax.annotate(txt, (X.sunHour[i],X.precipMM[i]))\n",
    "ax.set_xlabel('sunhour')\n",
    "ax.set_ylabel('precipMM')\n",
    "plt.show()\n",
    "\n",
    "fig.savefig('cluster3.png')"
   ]
  },
  {
   "cell_type": "code",
   "execution_count": 60,
   "metadata": {},
   "outputs": [
    {
     "name": "stderr",
     "output_type": "stream",
     "text": [
      "C:\\Users\\shrav\\Anaconda3\\lib\\site-packages\\matplotlib\\figure.py:459: UserWarning: matplotlib is currently using a non-GUI backend, so cannot show the figure\n",
      "  \"matplotlib is currently using a non-GUI backend, \"\n"
     ]
    },
    {
     "data": {
      "image/png": "[encoded data removed]",
      "text/plain": [
       "<Figure size 720x720 with 1 Axes>"
      ]
     },
     "metadata": {},
     "output_type": "display_data"
    }
   ],
   "source": [
    "fig = plt.figure(figsize=(10,10))\n",
    "ax = fig.add_subplot(111)\n",
    "groups = ('cluster 1','cluster 2','cluster 3','cluster 4')\n",
    "scatter = ax.scatter(X.precipMM,X.tempC,c=y_kmeans,s=500,label=groups)\n",
    "ax.scatter(kmeans.cluster_centers_[:, 2],kmeans.cluster_centers_[:, 0],s=100,c='red',marker='+')\n",
    "for i, txt in enumerate(cities):\n",
    "    ax.annotate(txt, (X.precipMM[i],X.tempC[i]))\n",
    "ax.set_xlabel('precipMM')\n",
    "ax.set_ylabel('tempc')\n",
    "plt.legend()\n",
    "fig.show()\n"
   ]
  },
  {
   "cell_type": "code",
   "execution_count": null,
   "metadata": {},
   "outputs": [],
   "source": []
  }
 ],
 "metadata": {
  "kernelspec": {
   "display_name": "Python 3",
   "language": "python",
   "name": "python3"
  },
  "language_info": {
   "codemirror_mode": {
    "name": "ipython",
    "version": 3
   },
   "file_extension": ".py",
   "mimetype": "text/x-python",
   "name": "python",
   "nbconvert_exporter": "python",
   "pygments_lexer": "ipython3",
   "version": "3.6.5"
  }
 },
 "nbformat": 4,
 "nbformat_minor": 2
}
