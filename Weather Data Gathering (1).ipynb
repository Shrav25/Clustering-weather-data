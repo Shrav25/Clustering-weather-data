{
 "cells": [
  {
   "cell_type": "code",
   "execution_count": 47,
   "metadata": {},
   "outputs": [],
   "source": [
    "#!pip install wwo-hist"
   ]
  },
  {
   "cell_type": "code",
   "execution_count": 48,
   "metadata": {},
   "outputs": [],
   "source": [
    "from wwo_hist import retrieve_hist_data"
   ]
  },
  {
   "cell_type": "code",
   "execution_count": 49,
   "metadata": {},
   "outputs": [],
   "source": [
    "import numpy as np\n",
    "import pandas as pd"
   ]
  },
  {
   "cell_type": "code",
   "execution_count": 50,
   "metadata": {},
   "outputs": [],
   "source": [
    "import os"
   ]
  },
  {
   "cell_type": "code",
   "execution_count": 51,
   "metadata": {},
   "outputs": [
    {
     "data": {
      "text/plain": [
       "'C:\\\\Weather Report_100 Indian Cities'"
      ]
     },
     "execution_count": 51,
     "metadata": {},
     "output_type": "execute_result"
    }
   ],
   "source": [
    "os.getcwd()"
   ]
  },
  {
   "cell_type": "code",
   "execution_count": 52,
   "metadata": {},
   "outputs": [],
   "source": [
    "os.chdir(\"C:\\Weather Report_100 Indian Cities\")"
   ]
  },
  {
   "cell_type": "code",
   "execution_count": 75,
   "metadata": {},
   "outputs": [
    {
     "name": "stdout",
     "output_type": "stream",
     "text": [
      "\n",
      "\n",
      "Retrieving weather data for shimoga\n",
      "\n",
      "\n",
      "Currently retrieving data for shimoga: from 2014-01-01 to 2014-01-31\n",
      "Time elapsed (hh:mm:ss.ms) 0:00:02.779674\n",
      "Currently retrieving data for shimoga: from 2014-02-01 to 2014-02-28\n",
      "Time elapsed (hh:mm:ss.ms) 0:00:04.986495\n",
      "Currently retrieving data for shimoga: from 2014-03-01 to 2014-03-31\n",
      "Time elapsed (hh:mm:ss.ms) 0:00:07.438558\n",
      "Currently retrieving data for shimoga: from 2014-04-01 to 2014-04-30\n",
      "Time elapsed (hh:mm:ss.ms) 0:00:09.761761\n",
      "Currently retrieving data for shimoga: from 2014-05-01 to 2014-05-31\n",
      "Time elapsed (hh:mm:ss.ms) 0:00:12.443507\n",
      "Currently retrieving data for shimoga: from 2014-06-01 to 2014-06-30\n",
      "Time elapsed (hh:mm:ss.ms) 0:00:14.800773\n",
      "Currently retrieving data for shimoga: from 2014-07-01 to 2014-07-31\n",
      "Time elapsed (hh:mm:ss.ms) 0:00:17.465684\n",
      "Currently retrieving data for shimoga: from 2014-08-01 to 2014-08-31\n",
      "Time elapsed (hh:mm:ss.ms) 0:00:20.237832\n",
      "Currently retrieving data for shimoga: from 2014-09-01 to 2014-09-30\n",
      "Time elapsed (hh:mm:ss.ms) 0:00:22.676906\n",
      "Currently retrieving data for shimoga: from 2014-10-01 to 2014-10-31\n",
      "Time elapsed (hh:mm:ss.ms) 0:00:25.293371\n",
      "Currently retrieving data for shimoga: from 2014-11-01 to 2014-11-30\n",
      "Time elapsed (hh:mm:ss.ms) 0:00:27.661105\n",
      "Currently retrieving data for shimoga: from 2014-12-01 to 2014-12-31\n",
      "Time elapsed (hh:mm:ss.ms) 0:00:30.093553\n",
      "Currently retrieving data for shimoga: from 2015-01-01 to 2015-01-31\n",
      "Time elapsed (hh:mm:ss.ms) 0:00:32.415723\n",
      "Currently retrieving data for shimoga: from 2015-02-01 to 2015-02-28\n",
      "Time elapsed (hh:mm:ss.ms) 0:00:34.609095\n",
      "Currently retrieving data for shimoga: from 2015-03-01 to 2015-03-31\n",
      "Time elapsed (hh:mm:ss.ms) 0:00:37.854388\n",
      "Currently retrieving data for shimoga: from 2015-04-01 to 2015-04-30\n",
      "Time elapsed (hh:mm:ss.ms) 0:00:40.058180\n",
      "Currently retrieving data for shimoga: from 2015-05-01 to 2015-05-31\n",
      "Time elapsed (hh:mm:ss.ms) 0:00:42.302540\n",
      "Currently retrieving data for shimoga: from 2015-06-01 to 2015-06-30\n",
      "Time elapsed (hh:mm:ss.ms) 0:00:44.599079\n",
      "Currently retrieving data for shimoga: from 2015-07-01 to 2015-07-31\n",
      "Time elapsed (hh:mm:ss.ms) 0:00:46.874984\n",
      "Currently retrieving data for shimoga: from 2015-08-01 to 2015-08-31\n",
      "Time elapsed (hh:mm:ss.ms) 0:00:50.115219\n",
      "Currently retrieving data for shimoga: from 2015-09-01 to 2015-09-30\n",
      "Time elapsed (hh:mm:ss.ms) 0:00:53.849214\n",
      "Currently retrieving data for shimoga: from 2015-10-01 to 2015-10-31\n",
      "Time elapsed (hh:mm:ss.ms) 0:00:56.419551\n",
      "Currently retrieving data for shimoga: from 2015-11-01 to 2015-11-30\n",
      "Time elapsed (hh:mm:ss.ms) 0:01:00.945577\n",
      "Currently retrieving data for shimoga: from 2015-12-01 to 2015-12-31\n",
      "Time elapsed (hh:mm:ss.ms) 0:01:03.971659\n",
      "Currently retrieving data for shimoga: from 2016-01-01 to 2016-01-31\n",
      "Time elapsed (hh:mm:ss.ms) 0:01:06.308154\n",
      "Currently retrieving data for shimoga: from 2016-02-01 to 2016-02-29\n",
      "Time elapsed (hh:mm:ss.ms) 0:01:08.741591\n",
      "Currently retrieving data for shimoga: from 2016-03-01 to 2016-03-31\n",
      "Time elapsed (hh:mm:ss.ms) 0:01:11.057950\n",
      "Currently retrieving data for shimoga: from 2016-04-01 to 2016-04-30\n",
      "Time elapsed (hh:mm:ss.ms) 0:01:13.895198\n",
      "Currently retrieving data for shimoga: from 2016-05-01 to 2016-05-31\n",
      "Time elapsed (hh:mm:ss.ms) 0:01:16.140838\n",
      "Currently retrieving data for shimoga: from 2016-06-01 to 2016-06-30\n",
      "Time elapsed (hh:mm:ss.ms) 0:01:18.392008\n",
      "Currently retrieving data for shimoga: from 2016-07-01 to 2016-07-31\n",
      "Time elapsed (hh:mm:ss.ms) 0:01:20.626841\n",
      "Currently retrieving data for shimoga: from 2016-08-01 to 2016-08-31\n",
      "Time elapsed (hh:mm:ss.ms) 0:01:22.814626\n",
      "Currently retrieving data for shimoga: from 2016-09-01 to 2016-09-30\n",
      "Time elapsed (hh:mm:ss.ms) 0:01:25.145633\n",
      "Currently retrieving data for shimoga: from 2016-10-01 to 2016-10-31\n",
      "Time elapsed (hh:mm:ss.ms) 0:01:27.659169\n",
      "Currently retrieving data for shimoga: from 2016-11-01 to 2016-11-30\n",
      "Time elapsed (hh:mm:ss.ms) 0:01:30.076438\n",
      "Currently retrieving data for shimoga: from 2016-12-01 to 2016-12-31\n",
      "Time elapsed (hh:mm:ss.ms) 0:01:33.689497\n",
      "Currently retrieving data for shimoga: from 2017-01-01 to 2017-01-31\n",
      "Time elapsed (hh:mm:ss.ms) 0:01:35.946249\n",
      "Currently retrieving data for shimoga: from 2017-02-01 to 2017-02-28\n",
      "Time elapsed (hh:mm:ss.ms) 0:01:37.986644\n",
      "Currently retrieving data for shimoga: from 2017-03-01 to 2017-03-31\n",
      "Time elapsed (hh:mm:ss.ms) 0:01:40.516653\n",
      "Currently retrieving data for shimoga: from 2017-04-01 to 2017-04-30\n",
      "Time elapsed (hh:mm:ss.ms) 0:01:42.642891\n",
      "Currently retrieving data for shimoga: from 2017-05-01 to 2017-05-31\n",
      "Time elapsed (hh:mm:ss.ms) 0:01:44.824624\n",
      "Currently retrieving data for shimoga: from 2017-06-01 to 2017-06-30\n",
      "Time elapsed (hh:mm:ss.ms) 0:01:46.921658\n",
      "Currently retrieving data for shimoga: from 2017-07-01 to 2017-07-31\n",
      "Time elapsed (hh:mm:ss.ms) 0:01:50.089651\n",
      "Currently retrieving data for shimoga: from 2017-08-01 to 2017-08-31\n",
      "Time elapsed (hh:mm:ss.ms) 0:01:52.315307\n",
      "Currently retrieving data for shimoga: from 2017-09-01 to 2017-09-30\n",
      "Time elapsed (hh:mm:ss.ms) 0:01:54.593298\n",
      "Currently retrieving data for shimoga: from 2017-10-01 to 2017-10-31\n",
      "Time elapsed (hh:mm:ss.ms) 0:01:57.084641\n",
      "Currently retrieving data for shimoga: from 2017-11-01 to 2017-11-30\n",
      "Time elapsed (hh:mm:ss.ms) 0:01:59.315664\n",
      "Currently retrieving data for shimoga: from 2017-12-01 to 2017-12-31\n",
      "Time elapsed (hh:mm:ss.ms) 0:02:01.562630\n",
      "Currently retrieving data for shimoga: from 2018-01-01 to 2018-01-31\n",
      "Time elapsed (hh:mm:ss.ms) 0:02:03.848915\n",
      "Currently retrieving data for shimoga: from 2018-02-01 to 2018-02-28\n",
      "Time elapsed (hh:mm:ss.ms) 0:02:05.850669\n",
      "Currently retrieving data for shimoga: from 2018-03-01 to 2018-03-31\n",
      "Time elapsed (hh:mm:ss.ms) 0:02:08.189769\n",
      "Currently retrieving data for shimoga: from 2018-04-01 to 2018-04-30\n",
      "Time elapsed (hh:mm:ss.ms) 0:02:10.317664\n",
      "Currently retrieving data for shimoga: from 2018-05-01 to 2018-05-31\n",
      "Time elapsed (hh:mm:ss.ms) 0:02:13.191703\n",
      "Currently retrieving data for shimoga: from 2018-06-01 to 2018-06-30\n",
      "Time elapsed (hh:mm:ss.ms) 0:02:16.808022\n",
      "Currently retrieving data for shimoga: from 2018-07-01 to 2018-07-31\n",
      "Time elapsed (hh:mm:ss.ms) 0:02:19.061970\n",
      "Currently retrieving data for shimoga: from 2018-08-01 to 2018-08-31\n",
      "Time elapsed (hh:mm:ss.ms) 0:02:21.469216\n",
      "Currently retrieving data for shimoga: from 2018-09-01 to 2018-09-30\n",
      "Time elapsed (hh:mm:ss.ms) 0:02:24.296689\n",
      "Currently retrieving data for shimoga: from 2018-10-01 to 2018-10-31\n",
      "Time elapsed (hh:mm:ss.ms) 0:02:26.527108\n",
      "Currently retrieving data for shimoga: from 2018-11-01 to 2018-11-30\n",
      "Time elapsed (hh:mm:ss.ms) 0:02:29.005683\n",
      "Currently retrieving data for shimoga: from 2018-12-01 to 2018-12-31\n",
      "Time elapsed (hh:mm:ss.ms) 0:02:31.355574\n",
      "Currently retrieving data for shimoga: from 2018-12-01 to 2018-12-31\n",
      "Time elapsed (hh:mm:ss.ms) 0:02:33.889464\n",
      "\n",
      "\n",
      "export shimoga completed!\n",
      "\n",
      "\n"
     ]
    }
   ],
   "source": [
    "frequency=24\n",
    "start_date = '01-JAN-2014'\n",
    "end_date = '31-DEC-2018'\n",
    "api_key = '14b78e483dfe43f88cf03314192006'\n",
    "location_list = ['Agartala.csv', 'Agra.csv', 'Ahmedabad.csv', 'Allahabad.csv', 'Amritsar.csv', 'Anjangaon.csv', 'Aruppukkottai.csv', 'Arvi.csv', 'Aurangabad.csv', 'Bengaluru.csv', 'Bhopal.csv', 'Bhubaneswar.csv', 'chandigarh.csv', 'Chennai.csv', 'cherrapunjee.csv', 'cochin.csv', 'Coimbatore.csv', 'Dehradun.csv', 'Delhi.csv', 'Dhanbad.csv', 'Dhoraji.csv', 'Diphu.csv', 'Faridabad.csv', 'Fatehabad.csv', 'Forbesganj.csv', 'Gangtok.csv', 'Ghaziabad.csv', 'Gilgit.csv', 'Goalpara.csv', 'Guwahati.csv', 'Gwalior.csv', 'Haora.csv', 'Hoshangabad.csv', 'Hugli-Chinsurah.csv', 'Hyderabad.csv', 'imphal.csv', 'Indore.csv', 'Itanagar.csv', 'Jabalpur.csv', 'Jagdalpur.csv', 'Jaipur.csv', 'jaisalmer.csv', 'Jind.csv', 'Jodhpur.csv', 'Kalyan & Dombivali.csv', 'Kancheepuram.csv', 'Kanpur.csv', 'kargil.csv', 'kohima.csv', 'Kolkata.csv', 'Kota.csv', 'Lalsot.csv', 'Leh.csv', 'Lucknow.csv', 'Ludhiana.csv', 'Machilipatnam.csv', 'Madurai.csv', 'Makrana.csv', 'mangalore.csv', 'Margherita.csv', 'Meerut.csv', 'Morena.csv', 'mumbai.csv', 'Mussoorie.csv', 'Muzaffarpur.csv', 'nagpur.csv', 'Narasaraopet.csv', 'Partur.csv', 'Patna.csv', 'Pimpri&Chinchwad.csv', 'Piro.csv', 'Pune.csv', 'Raipur.csv', 'Raisen.csv', 'Rajam.csv', 'Rajapalayam.csv', 'Rajkot.csv', 'Ranchi.csv', 'Saharanpur.csv', 'Shegaon.csv', 'Shillong.csv', 'shimoga.csv', 'Shoranur.csv', 'Simdega.csv', 'spiti.csv', 'Srinagar.csv', 'Surat.csv', 'Talcher.csv', 'Tehri.csv', 'Thane.csv', 'Thanjavur.csv', 'Thirumangalam.csv', 'Tikamgarh.csv', 'Trivandrum.csv', 'Umred.csv', 'Vadodara.csv', 'Vaniyambadi.csv', 'Varanasi.csv', 'Vijayawada.csv', 'Washim.csv']\n",
    "\n",
    "hist_weather_data = retrieve_hist_data(api_key,\n",
    "                                location_list,\n",
    "                                start_date,\n",
    "                                end_date,\n",
    "                                frequency,\n",
    "                                location_label = False,\n",
    "                                export_csv = True,\n",
    "                                store_df = True)"
   ]
  }
 ],
 "metadata": {
  "kernelspec": {
   "display_name": "Python 3",
   "language": "python",
   "name": "python3"
  },
  "language_info": {
   "codemirror_mode": {
    "name": "ipython",
    "version": 3
   },
   "file_extension": ".py",
   "mimetype": "text/x-python",
   "name": "python",
   "nbconvert_exporter": "python",
   "pygments_lexer": "ipython3",
   "version": "3.6.5"
  }
 },
 "nbformat": 4,
 "nbformat_minor": 2
}
